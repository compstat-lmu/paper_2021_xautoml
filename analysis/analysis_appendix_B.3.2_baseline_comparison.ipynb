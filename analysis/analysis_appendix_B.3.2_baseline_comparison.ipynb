{
 "cells": [
  {
   "cell_type": "markdown",
   "metadata": {},
   "source": [
    "# Naive baseline comparison"
   ]
  },
  {
   "cell_type": "code",
   "execution_count": 67,
   "metadata": {},
   "outputs": [],
   "source": [
    "library(dplyr)\n",
    "library(ggplot2)\n",
    "library(ggpubr)\n",
    "library(rlist)\n",
    "source(\"helper.r\")\n",
    "theme_set(theme_pubr())"
   ]
  },
  {
   "cell_type": "markdown",
   "metadata": {},
   "source": [
    "### Data Preparation for Comparison of tree-based and baseline methods"
   ]
  },
  {
   "cell_type": "markdown",
   "metadata": {},
   "source": [
    "Evaluation metrics of our method (Table 2 of our paper)"
   ]
  },
  {
   "cell_type": "code",
   "execution_count": 13,
   "metadata": {},
   "outputs": [],
   "source": [
    "# path to folder, with folders for dataset results\n",
    "path = \"../data/runs/mlp/\"\n",
    "datasets = list.files(path)\n",
    "\n",
    "# create list with one list containing one dataframe per dataset\n",
    "data.list = lapply(datasets, function(data){\n",
    "  \n",
    "  data.path = paste0(path, data, \"/2_3_effects_and_trees/\")\n",
    "  objectives = 'eval_SS_L2_20_1000.rds'\n",
    "  \n",
    "  for(i in 1:length(objectives)){\n",
    " \n",
    "    res = readRDS(paste0(data.path,\"/\", objectives[i]))\n",
    "    df.sub = res$result[[1]]$eval\n",
    "    df.sub$objective = res$objective\n",
    "    \n",
    "    if(i == 1) df = df.sub\n",
    "    else df = rbind(df, df.sub)\n",
    "  }\n",
    "  \n",
    "  return(df)\n",
    "})\n",
    "names(data.list) = datasets"
   ]
  },
  {
   "cell_type": "markdown",
   "metadata": {},
   "source": [
    "prepare data for plotting -- tree-based partitioning method with L2 distance"
   ]
  },
  {
   "cell_type": "code",
   "execution_count": 40,
   "metadata": {},
   "outputs": [],
   "source": [
    "data.tree = do.call(\"rbind\", data.list)\n",
    "data.tree = data.tree[data.tree$depth == 7,]\n",
    "data.plot.tree = data.frame(objective = data.tree$objective, hyperparameter = data.tree$feature, depth = data.tree$depth, neg_loglik = data.tree$neg_loglik, source.neg_loglik = data.tree$source.neg_loglik, MC = data.tree$conf.rel, OC = data.tree$conf.rel.opt.1)\n",
    "data.plot.tree$NLL = (data.plot.tree$source.neg_loglik - data.plot.tree$neg_loglik)/abs(data.plot.tree$source.neg_loglik)\n",
    "data.plot.tree$method = \"tree partitioning\""
   ]
  },
  {
   "cell_type": "markdown",
   "metadata": {},
   "source": [
    "Evaluation metrics of baseline method"
   ]
  },
  {
   "cell_type": "code",
   "execution_count": 70,
   "metadata": {},
   "outputs": [],
   "source": [
    "# path to folder, with folders for dataset results\n",
    "path = \"../data/runs/naive_baseline/\"\n",
    "datasets = list.files(path)\n",
    "\n",
    "# create list with one list containing one dataframe per dataset\n",
    "data.list.naive = lapply(datasets, function(data){\n",
    "    data.path = paste0(path, data)\n",
    "    objective = list.files(data.path)\n",
    "    res = readRDS(paste0(data.path, \"/\",objective))\n",
    "    colnames(res)[which(colnames(res)==\"result.feature\")] = \"feature\"\n",
    "    colnames(res)[which(colnames(res)==\"result.depth\")] = \"depth\"\n",
    "    df = res\n",
    "    df$objective = \"naive_baseline\"\n",
    "    \n",
    "    return(df) \n",
    "  \n",
    "})\n",
    "names(data.list.naive) = datasets\n"
   ]
  },
  {
   "cell_type": "markdown",
   "metadata": {},
   "source": [
    "prepare data for plotting -- naive basline method"
   ]
  },
  {
   "cell_type": "code",
   "execution_count": 71,
   "metadata": {},
   "outputs": [],
   "source": [
    "data.naive = do.call(\"rbind\", data.list.naive)\n",
    "data.plot.naive = data.frame(objective = data.naive$objective, hyperparameter = data.naive$feature, depth = data.naive$depth, neg_loglik = data.naive$result.neg_loglik, source.neg_loglik = data.naive$result.source.neg_loglik, MC = data.naive$result.conf.rel, OC = data.naive$result.conf.rel.opt.1)\n",
    "data.plot.naive$NLL = (data.plot.naive$source.neg_loglik - data.plot.naive$neg_loglik)/abs(data.plot.naive$source.neg_loglik)\n",
    "data.plot.naive$method = \"baseline\""
   ]
  },
  {
   "cell_type": "markdown",
   "metadata": {},
   "source": [
    "combine data of tree-based partitioning method and baseline method"
   ]
  },
  {
   "cell_type": "code",
   "execution_count": 42,
   "metadata": {},
   "outputs": [],
   "source": [
    "data.plot = rbind(data.plot.tree, data.plot.naive)\n",
    "data.plot = data.plot[,c(2,6:9)]\n",
    "library(tidyr)\n",
    "data.plot = data.plot %>% gather(metric, value, -c(hyperparameter, method))"
   ]
  },
  {
   "cell_type": "markdown",
   "metadata": {},
   "source": [
    "create boxplots for comparison of evauluation metrics"
   ]
  },
  {
   "cell_type": "code",
   "execution_count": 60,
   "metadata": {},
   "outputs": [
    {
     "data": {
      "image/png": "[encoded data removed]",
      "text/plain": [
       "plot without title"
      ]
     },
     "metadata": {
      "image/png": {
       "height": 420,
       "width": 420
      }
     },
     "output_type": "display_data"
    }
   ],
   "source": [
    "p = ggplot(data.plot, aes(x = hyperparameter, y = value )) + geom_boxplot(aes(fill = method)) + facet_grid(metric~hyperparameter, scale = \"free\")\n",
    "p\n",
    "ggsave(\"baseline_comp.png\", p, width = 8, height = 10)"
   ]
  },
  {
   "cell_type": "markdown",
   "metadata": {},
   "source": [
    "### Create Table 11  for baseline method on feature level "
   ]
  },
  {
   "cell_type": "code",
   "execution_count": 74,
   "metadata": {},
   "outputs": [
    {
     "name": "stderr",
     "output_type": "stream",
     "text": [
      "`summarise()` ungrouping output (override with `.groups` argument)\n",
      "\n",
      "`summarise()` ungrouping output (override with `.groups` argument)\n",
      "\n",
      "`summarise()` ungrouping output (override with `.groups` argument)\n",
      "\n",
      "`summarise()` ungrouping output (override with `.groups` argument)\n",
      "\n",
      "`summarise()` ungrouping output (override with `.groups` argument)\n",
      "\n",
      "`summarise()` ungrouping output (override with `.groups` argument)\n",
      "\n",
      "`summarise()` ungrouping output (override with `.groups` argument)\n",
      "\n",
      "`summarise()` ungrouping output (override with `.groups` argument)\n",
      "\n",
      "`summarise()` ungrouping output (override with `.groups` argument)\n",
      "\n",
      "`summarise()` ungrouping output (override with `.groups` argument)\n",
      "\n",
      "`summarise()` ungrouping output (override with `.groups` argument)\n",
      "\n",
      "`summarise()` ungrouping output (override with `.groups` argument)\n",
      "\n",
      "`summarise()` ungrouping output (override with `.groups` argument)\n",
      "\n",
      "`summarise()` ungrouping output (override with `.groups` argument)\n",
      "\n",
      "`summarise()` ungrouping output (override with `.groups` argument)\n",
      "\n",
      "`summarise()` ungrouping output (override with `.groups` argument)\n",
      "\n",
      "`summarise()` ungrouping output (override with `.groups` argument)\n",
      "\n",
      "`summarise()` ungrouping output (override with `.groups` argument)\n",
      "\n",
      "`summarise()` ungrouping output (override with `.groups` argument)\n",
      "\n",
      "`summarise()` ungrouping output (override with `.groups` argument)\n",
      "\n",
      "`summarise()` ungrouping output (override with `.groups` argument)\n",
      "\n",
      "`summarise()` ungrouping output (override with `.groups` argument)\n",
      "\n",
      "`summarise()` ungrouping output (override with `.groups` argument)\n",
      "\n",
      "`summarise()` ungrouping output (override with `.groups` argument)\n",
      "\n",
      "`summarise()` ungrouping output (override with `.groups` argument)\n",
      "\n",
      "`summarise()` ungrouping output (override with `.groups` argument)\n",
      "\n",
      "`summarise()` ungrouping output (override with `.groups` argument)\n",
      "\n",
      "`summarise()` ungrouping output (override with `.groups` argument)\n",
      "\n",
      "`summarise()` ungrouping output (override with `.groups` argument)\n",
      "\n",
      "`summarise()` ungrouping output (override with `.groups` argument)\n",
      "\n",
      "`summarise()` ungrouping output (override with `.groups` argument)\n",
      "\n",
      "`summarise()` ungrouping output (override with `.groups` argument)\n",
      "\n",
      "`summarise()` ungrouping output (override with `.groups` argument)\n",
      "\n",
      "`summarise()` ungrouping output (override with `.groups` argument)\n",
      "\n",
      "`summarise()` ungrouping output (override with `.groups` argument)\n",
      "\n",
      "`summarise()` ungrouping output (override with `.groups` argument)\n",
      "\n",
      "`summarise()` ungrouping output (override with `.groups` argument)\n",
      "\n",
      "`summarise()` ungrouping output (override with `.groups` argument)\n",
      "\n",
      "`summarise()` ungrouping output (override with `.groups` argument)\n",
      "\n",
      "`summarise()` ungrouping output (override with `.groups` argument)\n",
      "\n",
      "`summarise()` ungrouping output (override with `.groups` argument)\n",
      "\n",
      "`summarise()` ungrouping output (override with `.groups` argument)\n",
      "\n",
      "`summarise()` ungrouping output (override with `.groups` argument)\n",
      "\n",
      "`summarise()` ungrouping output (override with `.groups` argument)\n",
      "\n",
      "`summarise()` ungrouping output (override with `.groups` argument)\n",
      "\n",
      "`summarise()` ungrouping output (override with `.groups` argument)\n",
      "\n",
      "`summarise()` ungrouping output (override with `.groups` argument)\n",
      "\n",
      "`summarise()` ungrouping output (override with `.groups` argument)\n",
      "\n",
      "`summarise()` ungrouping output (override with `.groups` argument)\n",
      "\n",
      "`summarise()` ungrouping output (override with `.groups` argument)\n",
      "\n",
      "`summarise()` ungrouping output (override with `.groups` argument)\n",
      "\n",
      "`summarise()` ungrouping output (override with `.groups` argument)\n",
      "\n",
      "`summarise()` ungrouping output (override with `.groups` argument)\n",
      "\n",
      "`summarise()` ungrouping output (override with `.groups` argument)\n",
      "\n",
      "`summarise()` ungrouping output (override with `.groups` argument)\n",
      "\n",
      "`summarise()` ungrouping output (override with `.groups` argument)\n",
      "\n",
      "`summarise()` ungrouping output (override with `.groups` argument)\n",
      "\n",
      "`summarise()` ungrouping output (override with `.groups` argument)\n",
      "\n",
      "`summarise()` ungrouping output (override with `.groups` argument)\n",
      "\n",
      "`summarise()` ungrouping output (override with `.groups` argument)\n",
      "\n",
      "`summarise()` ungrouping output (override with `.groups` argument)\n",
      "\n",
      "`summarise()` ungrouping output (override with `.groups` argument)\n",
      "\n",
      "`summarise()` ungrouping output (override with `.groups` argument)\n",
      "\n",
      "`summarise()` ungrouping output (override with `.groups` argument)\n",
      "\n",
      "`summarise()` ungrouping output (override with `.groups` argument)\n",
      "\n",
      "`summarise()` ungrouping output (override with `.groups` argument)\n",
      "\n",
      "`summarise()` ungrouping output (override with `.groups` argument)\n",
      "\n",
      "`summarise()` ungrouping output (override with `.groups` argument)\n",
      "\n",
      "`summarise()` ungrouping output (override with `.groups` argument)\n",
      "\n",
      "`summarise()` ungrouping output (override with `.groups` argument)\n",
      "\n",
      "`summarise()` ungrouping output (override with `.groups` argument)\n",
      "\n",
      "`summarise()` ungrouping output (override with `.groups` argument)\n",
      "\n",
      "`summarise()` ungrouping output (override with `.groups` argument)\n",
      "\n",
      "`summarise()` ungrouping output (override with `.groups` argument)\n",
      "\n",
      "`summarise()` ungrouping output (override with `.groups` argument)\n",
      "\n",
      "`summarise()` ungrouping output (override with `.groups` argument)\n",
      "\n",
      "`summarise()` ungrouping output (override with `.groups` argument)\n",
      "\n",
      "`summarise()` ungrouping output (override with `.groups` argument)\n",
      "\n",
      "`summarise()` ungrouping output (override with `.groups` argument)\n",
      "\n",
      "`summarise()` ungrouping output (override with `.groups` argument)\n",
      "\n",
      "`summarise()` ungrouping output (override with `.groups` argument)\n",
      "\n",
      "`summarise()` ungrouping output (override with `.groups` argument)\n",
      "\n",
      "`summarise()` ungrouping output (override with `.groups` argument)\n",
      "\n",
      "`summarise()` ungrouping output (override with `.groups` argument)\n",
      "\n",
      "`summarise()` ungrouping output (override with `.groups` argument)\n",
      "\n",
      "`summarise()` ungrouping output (override with `.groups` argument)\n",
      "\n",
      "`summarise()` ungrouping output (override with `.groups` argument)\n",
      "\n",
      "`summarise()` ungrouping output (override with `.groups` argument)\n",
      "\n",
      "`summarise()` ungrouping output (override with `.groups` argument)\n",
      "\n",
      "`summarise()` ungrouping output (override with `.groups` argument)\n",
      "\n",
      "`summarise()` ungrouping output (override with `.groups` argument)\n",
      "\n",
      "`summarise()` ungrouping output (override with `.groups` argument)\n",
      "\n",
      "`summarise()` ungrouping output (override with `.groups` argument)\n",
      "\n",
      "`summarise()` ungrouping output (override with `.groups` argument)\n",
      "\n",
      "`summarise()` ungrouping output (override with `.groups` argument)\n",
      "\n",
      "`summarise()` ungrouping output (override with `.groups` argument)\n",
      "\n",
      "`summarise()` ungrouping output (override with `.groups` argument)\n",
      "\n",
      "`summarise()` ungrouping output (override with `.groups` argument)\n",
      "\n",
      "`summarise()` ungrouping output (override with `.groups` argument)\n",
      "\n",
      "`summarise()` ungrouping output (override with `.groups` argument)\n",
      "\n",
      "`summarise()` ungrouping output (override with `.groups` argument)\n",
      "\n",
      "`summarise()` ungrouping output (override with `.groups` argument)\n",
      "\n",
      "`summarise()` ungrouping output (override with `.groups` argument)\n",
      "\n",
      "`summarise()` ungrouping output (override with `.groups` argument)\n",
      "\n",
      "`summarise()` ungrouping output (override with `.groups` argument)\n",
      "\n",
      "`summarise()` ungrouping output (override with `.groups` argument)\n",
      "\n",
      "`summarise()` ungrouping output (override with `.groups` argument)\n",
      "\n",
      "`summarise()` ungrouping output (override with `.groups` argument)\n",
      "\n"
     ]
    },
    {
     "name": "stdout",
     "output_type": "stream",
     "text": [
      "  hyperparameter MC.mean MC.sd OC.mean OC.sd NLL.mean NLL.sd\n",
      "1     batch_size    13.7  12.1    18.9  16.0      1.4   21.6\n",
      "2  learning_rate    23.1  17.7    27.2  20.7     -3.4   27.0\n",
      "3    max_dropout    21.1  16.8    26.7  16.8      3.3   22.1\n",
      "4      max_units    19.1  16.5    22.0  17.1     -1.4   19.7\n",
      "5       momentum    21.9  16.4    25.3  16.9      2.1   25.4\n",
      "6     num_layers     8.1   5.9    15.4  12.8      0.9   11.8\n",
      "7   weight_decay    22.6  15.9    41.7  15.8      2.2   24.2\n"
     ]
    }
   ],
   "source": [
    "df.conf       = create_table_features(data.list = data.list.naive, objective = \"naive_baseline\", target = \"result.conf.rel\", depth = 7)\n",
    "df.conf.opt   = create_table_features(data.list = data.list.naive, objective = \"naive_baseline\", target = \"result.conf.rel.opt.1\", depth = 7)\n",
    "df.neg_loglik = create_table_features(data.list = data.list.naive, objective = \"naive_baseline\", target = \"result.neg_loglik.rel\", depth = 7)\n",
    "df.features   = cbind(df.conf, df.conf.opt[,2:3], df.neg_loglik[,2:3])\n",
    "df.features[,2:7] = round(df.features[,2:7]*100, 1)\n",
    "names(df.features) = c(\"hyperparameter\", \"MC.mean\", \"MC.sd\", \"OC.mean\", \"OC.sd\", \"NLL.mean\", \"NLL.sd\")\n",
    "print(df.features)"
   ]
  }
 ],
 "metadata": {
  "kernelspec": {
   "display_name": "R",
   "language": "R",
   "name": "ir"
  },
  "language_info": {
   "codemirror_mode": "r",
   "file_extension": ".r",
   "mimetype": "text/x-r-source",
   "name": "R",
   "pygments_lexer": "r",
   "version": "4.0.2"
  }
 },
 "nbformat": 4,
 "nbformat_minor": 4
}
